{
 "cells": [
  {
   "cell_type": "markdown",
   "metadata": {
    "id": "5dVodh7LjlNy"
   },
   "source": [
    "# Automatic Differentiation is not numerical differentiation\n",
    "\n",
    "## Instructions:\n",
    " - Copy the notebook to your Google Colab account;\n",
    " - Run the notebook with Shift-Enter at each cell;\n",
    " - Experiment and have fun!\n",
    "\n",
    "## What is this demo about?\n",
    "\n",
    "This demo will show you the difference between **Automatic Differentiation** (Autodiff),\n",
    "**algebraic differentiation** (the one you did in math classes) and **numerical differentiation**\n",
    "(coarse and shameless approximation to the derivative).\n",
    "\n",
    "There are two flavors for Autodiff: the forward and the backward modes.\n",
    "Backpropagation is a particular case of the backward mode,\n",
    "and we will see an example of the forward mode -- easier to code, and illustrative of the Autodiff behavior.\n",
    "\n",
    "**For the forward Autodiff we will use the concept of dual numbers.**\n",
    "A dual number is an extension of the real numbers.  Written out, the form looks similar to a complex number."
   ]
  },
  {
   "cell_type": "markdown",
   "metadata": {
    "id": "Xz9rPyQejlN0"
   },
   "source": [
    "## Complex Numbers reviewed\n",
    "A complex number has the form $$z = a + bi$$ where we *define* the number $i$ so that $i^{2} = -1$. \n",
    "\n",
    "Sometimes the imaginary unit is notated as $j$ (as in Python)."
   ]
  },
  {
   "cell_type": "markdown",
   "metadata": {
    "id": "ou2ZHmcSjlN1"
   },
   "source": [
    "No real number has this property. Hence, the introduction of complex numbers."
   ]
  },
  {
   "cell_type": "markdown",
   "metadata": {
    "id": "HvB1JsfrjlN1"
   },
   "source": [
    "Visually, you can think of a real number as a number lying on a straight line: the real line.\n",
    "Then, we extend the real field to 2 dimensions. The new axis is called the *imaginary* axis."
   ]
  },
  {
   "cell_type": "code",
   "execution_count": 1,
   "metadata": {
    "id": "9D93gFVHxtnR"
   },
   "outputs": [],
   "source": [
    "def arg_complex_number(complex_numbers_arg):\n",
    "\n",
    "    import matplotlib.pyplot as pyplot\n",
    "    import numpy as numpy\n",
    "\n",
    "    fig, ax = pyplot.subplots()\n",
    "    pyplot.axis(\"on\")\n",
    "    pyplot.grid()\n",
    "\n",
    "    # Left y-axis and bottom x-axis to centre, passing through (0,0)\n",
    "    ax.spines['left'].set_position('center')\n",
    "    ax.spines['bottom'].set_position('center')\n",
    "\n",
    "    # Clean axes\n",
    "    ax.spines['right'].set_color('none')\n",
    "    ax.spines['top'].set_color('none')\n",
    "\n",
    "    # Ticks on left and lower axes\n",
    "    ax.xaxis.set_ticks_position('bottom')\n",
    "    ax.yaxis.set_ticks_position('left')\n",
    "\n",
    "    for x in range(len(complex_numbers_arg)):\n",
    "        pyplot.plot([0,complex_numbers_arg[x].real],[0,complex_numbers_arg[x].imag],'rs-')\n",
    "\n",
    "    limit = numpy.max(numpy.ceil(numpy.absolute(complex_numbers_arg)))\n",
    "\n",
    "    pyplot.xlim((-limit,limit))\n",
    "    pyplot.ylim((-limit,limit))\n",
    "    pyplot.arrow(0, -limit, 0, 1.9*limit, head_width=limit/20, head_length=limit/20, fc='k', ec='k')\n",
    "    pyplot.arrow(-limit, 0, 1.9*limit, 0, head_width=limit/20, head_length=limit/20, fc='k', ec='k')\n",
    "\n",
    "    #pyplot.ylabel(30*\" \"+\"Im\", horizontalalignment='left',rotation=0)\n",
    "    #pyplot.xlabel('Re')\n",
    "\n",
    "    ax.set_xlabel(80*' '+'Re')\n",
    "    ax.set_ylabel(50*' '+'Im')\n",
    "\n",
    "    pyplot.show()"
   ]
  },
  {
   "cell_type": "code",
   "execution_count": 2,
   "metadata": {
    "pycharm": {
     "name": "#%%\n"
    }
   },
   "outputs": [
    {
     "data": {
      "image/png": "[encoded data removed]",
      "text/plain": [
       "<Figure size 432x288 with 1 Axes>"
      ]
     },
     "metadata": {
      "needs_background": "light"
     },
     "output_type": "display_data"
    }
   ],
   "source": [
    "complex_number = [1+4j]\n",
    "arg_complex_number(complex_number)"
   ]
  },
  {
   "cell_type": "code",
   "execution_count": 3,
   "metadata": {
    "id": "3mTpVgrfzIkS"
   },
   "outputs": [
    {
     "data": {
      "image/png": "[encoded data removed]",
      "text/plain": [
       "<Figure size 432x288 with 1 Axes>"
      ]
     },
     "metadata": {
      "needs_background": "light"
     },
     "output_type": "display_data"
    }
   ],
   "source": [
    "complex_numbers = [1+4j, -2+2j]\n",
    "arg_complex_number(complex_numbers)"
   ]
  },
  {
   "cell_type": "code",
   "execution_count": 4,
   "metadata": {
    "id": "keX6xeP73GGr"
   },
   "outputs": [
    {
     "data": {
      "image/png": "[encoded data removed]",
      "text/plain": [
       "<Figure size 432x288 with 1 Axes>"
      ]
     },
     "metadata": {
      "needs_background": "light"
     },
     "output_type": "display_data"
    }
   ],
   "source": [
    "dual_number_1 = 1+4j\n",
    "dual_number_2 = -2+2j\n",
    "\n",
    "dual_numbers = [dual_number_1, dual_number_2, (dual_number_1 + dual_number_2)]\n",
    "arg_complex_number(dual_numbers)"
   ]
  },
  {
   "cell_type": "markdown",
   "metadata": {
    "id": "XtFYOALSjlN1"
   },
   "source": [
    "### A few properties and operations on Complex Numbers\n",
    "\n",
    "$$z = a+b i$$\n",
    "\n",
    "\n",
    "* Real part: $\\text{Re}(z) = a$\n",
    "* Imaginary part: $\\text{Im}(z) = b$\n",
    "\n",
    "* Complex conjugate: $z^{*} = a - bi$.\n",
    "* Magnitude of a complex number: $\\left|z\\right|^{2} = zz^{*} = \\left(a+bi\\right)\\left(a-bi\\right) = a^{2} + b^{2}$.\n",
    "\n",
    "* Summation: $z_1 + z_2 = (a_1 + a_2) + (b_1 + b_2)i$\n",
    "* Multiplication: $z_1z_2 = (a_1+b_1i)(a_2+b_2i) = a_1a_2-\\mathbf{b_1b_2} + (a_1b_2 +a_2b_1)i$ *->* **Feedback of the imaginary part to the real part**"
   ]
  },
  {
   "cell_type": "code",
   "execution_count": 5,
   "metadata": {
    "id": "5d5k0BHT3smg"
   },
   "outputs": [
    {
     "data": {
      "image/png": "[encoded data removed]",
      "text/plain": [
       "<Figure size 432x288 with 1 Axes>"
      ]
     },
     "metadata": {
      "needs_background": "light"
     },
     "output_type": "display_data"
    }
   ],
   "source": [
    "complex_number_1 = 1+4j\n",
    "complex_number_2 = -2+2j\n",
    "\n",
    "complex_numbers = [complex_number_1, complex_number_2, (complex_number_1 * complex_number_2)]\n",
    "\n",
    "arg_complex_number(complex_numbers)"
   ]
  },
  {
   "cell_type": "markdown",
   "metadata": {
    "id": "ENUg4j-2jlN2"
   },
   "source": [
    "## Definition of Dual Numbers\n",
    "A dual number has a real part $a$ and a dual part $b$.  We write $$z = a + b \\epsilon $$."
   ]
  },
  {
   "cell_type": "markdown",
   "metadata": {
    "id": "2hmVqS87jlN2"
   },
   "source": [
    "We *define* the number $\\epsilon \\not = 0$, so that $\\epsilon^{2} = 0$."
   ]
  },
  {
   "cell_type": "markdown",
   "metadata": {
    "id": "NbL_50CXjlN2"
   },
   "source": [
    "**Note that $\\epsilon$ is NOT zero!**\n",
    "\n",
    "$\\epsilon$ is not a real number. You can imagine that $\\epsilon$ is\n",
    "a tiny number. When you square it, it gets much smaller."
   ]
  },
  {
   "cell_type": "markdown",
   "metadata": {
    "id": "4tWFzzP7jlN3"
   },
   "source": [
    "#### Some properties of dual numbers:\n",
    "\n",
    "* Real part: $\\text{Re}(z) = a$\n",
    "* Dual part: $\\text{Dual}(z) = b$\n",
    "* Conjugate:  $z^{*} = a - b \\epsilon $.\n",
    "* Magnitude: $\\left|z\\right|^{2} = zz^{*} = \\left(a+ b \\epsilon \\right)\\left(a- b \\epsilon \\right) = a^{2}$.\n",
    "* Summation: $z_1 + z_2 = (a_1+a_2) + (b_1+b_2) \\epsilon $.\n",
    "* Multiplication: $z_1z_2 = (a_1a_2 +  b_1b_2\\mathbf{\\epsilon^2}) + (a_1b_2 + a_2b_1) \\epsilon  = a_1a_2 +\n",
    "(a_1b_2 + a_2b_1) \\epsilon$ *->* **There is NO feedback of the dual part to the real part**\n"
   ]
  },
  {
   "cell_type": "code",
   "execution_count": 6,
   "metadata": {
    "id": "ZUorOukno7xi"
   },
   "outputs": [
    {
     "data": {
      "text/plain": [
       "(0.001, 1e-06)"
      ]
     },
     "execution_count": 6,
     "metadata": {},
     "output_type": "execute_result"
    }
   ],
   "source": [
    "# Motivation: take a small number, and square it\n",
    "small = 1e-3\n",
    "small, small**2"
   ]
  },
  {
   "cell_type": "markdown",
   "metadata": {
    "id": "rhX7v_EO6unH"
   },
   "source": [
    "## Taylor Series Expansion\n",
    "A smooth function $f$ can be written as an infinite sum of polynomials\n",
    "\n",
    " $$ f(x) = f(a) + \\frac{f^\\prime(a)}{1!}(x-a) + \\frac{f^{\\prime\\prime}(a)}{2!}(x-a)^2 + \\frac{f^{\\prime\\prime\\prime}(a)}{3!}(x-a)^3 + \\cdots $$\n",
    "\n",
    " \n",
    "### Example: $e^x$\n",
    "\n",
    "$$f(x) = e^x$$\n",
    "\n",
    "Assume $a = 0$. Then,\n",
    "$$f(x) = 1 + x + \\frac{x^2}{2!} + \\frac{x^3}{3!}+ \\dots$$"
   ]
  },
  {
   "cell_type": "code",
   "execution_count": 7,
   "metadata": {
    "id": "FcrsXzM96pEh"
   },
   "outputs": [],
   "source": [
    "def expansion_taylor(n, x):\n",
    "\n",
    "  import math\n",
    "\n",
    "  term = 1\n",
    "\n",
    "  for k in range(1,n+1):\n",
    "    term += x**k/math.factorial(k)\n",
    "    #print(term)\n",
    "\n",
    "  return term"
   ]
  },
  {
   "cell_type": "code",
   "execution_count": 8,
   "metadata": {
    "pycharm": {
     "name": "#%%\n"
    }
   },
   "outputs": [],
   "source": [
    "def plot_expansion_taylor(n):\n",
    "\n",
    "  import matplotlib.pyplot as plt\n",
    "  import numpy as numpy\n",
    "\n",
    "  x = numpy.arange(-2,2,0.1)\n",
    "  exp_taylor = [expansion_taylor(n,xi) for xi in x]\n",
    "\n",
    "  fig, ax = plt.subplots()\n",
    "\n",
    "  ax.plot(x, numpy.exp(x))\n",
    "  ax.plot(x, exp_taylor)\n",
    "  ax.set_ylim([-2,numpy.exp(2)])\n",
    "\n",
    "  ax.legend(['exp() function', 'Taylor Series'])\n",
    "  plt.show()"
   ]
  },
  {
   "cell_type": "code",
   "execution_count": 9,
   "metadata": {
    "pycharm": {
     "name": "#%%\n"
    }
   },
   "outputs": [
    {
     "data": {
      "image/png": "[encoded data removed]",
      "text/plain": [
       "<Figure size 432x288 with 1 Axes>"
      ]
     },
     "metadata": {
      "needs_background": "light"
     },
     "output_type": "display_data"
    }
   ],
   "source": [
    "plot_expansion_taylor(0)"
   ]
  },
  {
   "cell_type": "code",
   "execution_count": 10,
   "metadata": {
    "id": "kKEg3J4LUwF7"
   },
   "outputs": [
    {
     "data": {
      "image/png": "[encoded data removed]",
      "text/plain": [
       "<Figure size 432x288 with 1 Axes>"
      ]
     },
     "metadata": {
      "needs_background": "light"
     },
     "output_type": "display_data"
    }
   ],
   "source": [
    "plot_expansion_taylor(1)"
   ]
  },
  {
   "cell_type": "code",
   "execution_count": 11,
   "metadata": {
    "id": "RV2uL67OU0nQ"
   },
   "outputs": [
    {
     "data": {
      "image/png": "[encoded data removed]",
      "text/plain": [
       "<Figure size 432x288 with 1 Axes>"
      ]
     },
     "metadata": {
      "needs_background": "light"
     },
     "output_type": "display_data"
    }
   ],
   "source": [
    "plot_expansion_taylor(3)"
   ]
  },
  {
   "cell_type": "code",
   "execution_count": 12,
   "metadata": {
    "id": "agf1OwZMU6Qr"
   },
   "outputs": [
    {
     "data": {
      "image/png": "[encoded data removed]",
      "text/plain": [
       "<Figure size 432x288 with 1 Axes>"
      ]
     },
     "metadata": {
      "needs_background": "light"
     },
     "output_type": "display_data"
    }
   ],
   "source": [
    "plot_expansion_taylor(6)"
   ]
  },
  {
   "cell_type": "markdown",
   "metadata": {
    "id": "ml8GBXqFVQOo"
   },
   "source": [
    "## Taylor Series and the Dual Number\n",
    "\n",
    "Let's apply the Taylor expansion to $ x = a+b \\epsilon$\n",
    "\n",
    " $$ f(a+b \\epsilon) = f(a) + \\frac{f^\\prime(a)}{1!} b \\epsilon + \\frac{f^{\\prime\\prime}(a)}{2!}b^2 \\epsilon^2 + \\frac{f^{\\prime\\prime\\prime}(a)}{3!}b^3 \\epsilon^2 \\epsilon + \\cdots $$\n",
    "\n",
    "And, all terms that include multiplication by $\\epsilon^2$ are zero! So, we see that, for all possible $a$ and $b$,\n",
    "\n",
    " $$ f(a+b \\epsilon) = f(a) + f^\\prime(a) b \\epsilon $$\n"
   ]
  },
  {
   "cell_type": "markdown",
   "metadata": {
    "id": "1gfR-k09jlN3"
   },
   "source": [
    "### Example\n",
    "Recall that the derivative of $f(x)=x^{2}$ is $f^{\\prime}(x) = 2x$."
   ]
  },
  {
   "cell_type": "markdown",
   "metadata": {
    "id": "wnaUUGqZjlN3"
   },
   "source": [
    "Now if we extend $x$ so that it has a real part and a dual part ($x\\leftarrow a + b \\epsilon $) and evaluate $f$ we have\n",
    "\\begin{align}\n",
    "  f(a + b \\epsilon) &= \\left(a + b \\epsilon \\right)^{2} \\\\\n",
    "    &= a^{2} + 2ab\\epsilon + \\underbrace{b^{2}\\epsilon^{2}}_{=0} \\\\\n",
    "    &= a^{2} + 2ab\\epsilon.\n",
    "\\end{align}"
   ]
  },
  {
   "cell_type": "markdown",
   "metadata": {
    "id": "PTQNRc0YjlN3"
   },
   "source": [
    "#### Notice that the real part is $f$ evaluated at $a$, and the dual part contains the derivative of our function evaluated at $a$!!"
   ]
  },
  {
   "cell_type": "markdown",
   "metadata": {
    "id": "KLpDyXDmjlN4"
   },
   "source": [
    "### Example\n",
    "Evaluate $y = \\sin\\left(x\\right)$ when $x\\leftarrow a + b\\epsilon$.\n",
    "\n",
    "We have\n",
    "\\begin{align}\n",
    "  y & = \\sin\\left(a + b \\epsilon \\right) \\\\\n",
    "    & = \\sin\\left(a\\right)\\cos\\left( b \\epsilon\\right) + \\cos\\left(a\\right)\\sin\\left( b \\epsilon\\right).\n",
    "\\end{align}"
   ]
  },
  {
   "cell_type": "markdown",
   "metadata": {
    "id": "xaKU-I8FjlN4"
   },
   "source": [
    "Expanding $\\cos$ and $\\sin$ in their Taylor series gives \n",
    "\\begin{align}\n",
    "  \\sin\\left(b \\epsilon \\right) &= b \\epsilon  + \\dfrac{\\left( b \\epsilon \\right)^{3}}{3!} + \\cdots = b \\epsilon \\\\\n",
    "  \\cos\\left(b \\epsilon \\right) &= 1 + \\dfrac{\\left( b \\epsilon \\right)^{2}}{2} + \\cdots = 1.\n",
    "\\end{align}\n",
    "Remember that $\\epsilon^2 =0$, and $\\epsilon \\not = 0$."
   ]
  },
  {
   "cell_type": "markdown",
   "metadata": {
    "id": "2c9I42H_jlN4"
   },
   "source": [
    "So we see that \n",
    "\\begin{align}\n",
    "  y & = \\sin\\left(a\\right) + \\cos\\left(a\\right) b \\epsilon.\n",
    "\\end{align}\n",
    "And once again the real component is the function, and the dual component is the derivative times $b$. Make $b=1$...\n",
    "\n",
    "**And we have a closed-form computation for the derivative at a point a!!**\n"
   ]
  },
  {
   "cell_type": "markdown",
   "metadata": {
    "id": "m6XKQqd2djoY"
   },
   "source": [
    "##Using Python Autograd"
   ]
  },
  {
   "cell_type": "code",
   "execution_count": 13,
   "metadata": {
    "id": "MrYwbZGb2XmF"
   },
   "outputs": [
    {
     "data": {
      "text/plain": [
       "(54.598150033144236, 54.598150033144236)"
      ]
     },
     "execution_count": 13,
     "metadata": {},
     "output_type": "execute_result"
    }
   ],
   "source": [
    "import autograd\n",
    "import autograd.numpy as autograd_numpy\n",
    "\n",
    "autograd.grad(autograd_numpy.exp)(4.), autograd_numpy.exp(4.)"
   ]
  },
  {
   "cell_type": "markdown",
   "metadata": {
    "id": "WZTeGOkRidkK"
   },
   "source": [
    "Square root function:\n",
    "\n",
    "$$ f(x) = \\sqrt(x)$$\n",
    "\n",
    "Derivative:\n",
    "\n",
    "$$ f^\\prime (x) = \\frac{1}{2 \\sqrt(x)} $$\n",
    "\n",
    "Try using autograd"
   ]
  },
  {
   "cell_type": "code",
   "execution_count": 14,
   "metadata": {
    "id": "0eI8D4gMf9UX"
   },
   "outputs": [],
   "source": [
    "def derivative_sqrt(x):\n",
    "\n",
    "  import numpy\n",
    "\n",
    "  return 1.0/2/numpy.sqrt(x)"
   ]
  },
  {
   "cell_type": "code",
   "execution_count": 15,
   "metadata": {
    "pycharm": {
     "name": "#%%\n"
    }
   },
   "outputs": [],
   "source": [
    "def plot_comparison_sqrt():\n",
    "\n",
    "  import matplotlib.pyplot as plt\n",
    "  import autograd\n",
    "  import autograd.numpy as autograd_numpy_for_sqrt\n",
    "\n",
    "  x = autograd_numpy_for_sqrt.arange(0.1,2,0.05)\n",
    "  df_dx = [derivative_sqrt(xi) for xi in x]\n",
    "  auto_d = [autograd.grad(autograd_numpy_for_sqrt.sqrt)(xi) for xi in x]\n",
    "\n",
    "  fig, ax = plt.subplots()\n",
    "\n",
    "  ax.plot(x, autograd_numpy_for_sqrt.sqrt(x))\n",
    "  ax.plot(x, df_dx)\n",
    "  ax.plot(x, auto_d, 'o')\n",
    "\n",
    "  ax.legend(['sqrt() function','Analytic (symbolic) derivative','Autodiff'])\n",
    "  plt.show()"
   ]
  },
  {
   "cell_type": "code",
   "execution_count": 16,
   "metadata": {
    "pycharm": {
     "name": "#%%\n"
    }
   },
   "outputs": [
    {
     "data": {
      "image/png": "[encoded data removed]",
      "text/plain": [
       "<Figure size 432x288 with 1 Axes>"
      ]
     },
     "metadata": {
      "needs_background": "light"
     },
     "output_type": "display_data"
    }
   ],
   "source": [
    "plot_comparison_sqrt()"
   ]
  },
  {
   "cell_type": "markdown",
   "metadata": {
    "id": "DxO_jsJJqHZG"
   },
   "source": [
    "Exercises\n",
    "\n",
    "Take function $f$ defined as\n",
    "$$\n",
    "f(x) = e^{x^2}.\n",
    "$$\n",
    "\n",
    "1. Compute the derivative of $f$ by hand. Remember that if $ u = x^2 $, then $$\\left . \\frac{df}{dx}(x) \\right|_{x=a} = \\left. \\frac{df}{du}\\frac{du}{dx}(x)\\right | _{x=a}.$$\n",
    "2. Write a Python function receiving as arguments function $ f $, and a step $h$ to approximate the derivative using finite differences, i.e., $$ \\text{NumDiff}(f,h) = \\frac{f(x+h) - f(x)}{h}.$$\n",
    "3. Evaluate the functions from exercises 1 and 2 with $x \\in [0.2,0.4]$, for $h \\in \\{0.1, 10^{-5}, 10^{-15}\\}$ and plot the results. What can you conclude?\n",
    "4. Deduce the expression of $f(a+\\epsilon)$. You will need the property $\\epsilon^2 = 0$ and the Taylor expansion above for $e^x$.\n",
    "5. Create a class `DualNumber` and equip it with the necessary methods to perform dual number arithmetic, namely addition, multiplication and power of a number `n`.\n",
    "6.  Write a new Python function to compute the derivative of $f$ using this class. Remember you will be evaluating function $f(x)$ on the dual number $x=a+\\epsilon$. Compare the result in a plot also showing `NumDiff` and the symbolic derivative you computed in the first exercise.\n",
    "7. Now use the Python package `autograd`to compute the exact derivative and plot the result.\n",
    "8. Use `autograd` to compute the derivative of\n",
    "$$ f(x) = e^{-(\\sin(x) - 4\\cos(x))^2} $$\n"
   ]
  },
  {
   "cell_type": "markdown",
   "metadata": {
    "id": "A7XgPHu_Pm8Q"
   },
   "source": [
    "Solution:\n",
    "\n",
    "1. $2xe^{x^2}$\n",
    "2. See the code below\n",
    "3. See the code below\n",
    "4. $f(a+\\epsilon) = e^{a^2+2a\\epsilon} = e^{a^2}e^{2a\\epsilon}=e^{a^2} (1+ 2a\\epsilon)= e^{a^2} + 2ae^{a^2}\\epsilon$\n",
    "5. See the code below\n",
    "6. See the code below\n",
    "7. See the code below\n",
    "8. See the code below"
   ]
  },
  {
   "cell_type": "code",
   "execution_count": 17,
   "metadata": {
    "id": "OwlgtwRskkm9"
   },
   "outputs": [],
   "source": [
    "def num_diff(f, h):\n",
    "\n",
    "  return lambda x:(f(x+h)-f(x))/h"
   ]
  },
  {
   "cell_type": "code",
   "execution_count": 18,
   "metadata": {
    "pycharm": {
     "name": "#%%\n"
    }
   },
   "outputs": [],
   "source": [
    "def symbol_der(x):\n",
    "\n",
    "  import numpy as numpy\n",
    "\n",
    "  return 2 * x * numpy.exp(x ** 2)"
   ]
  },
  {
   "cell_type": "code",
   "execution_count": 19,
   "metadata": {
    "pycharm": {
     "name": "#%%\n"
    }
   },
   "outputs": [],
   "source": [
    "def exercise_3():\n",
    "\n",
    "  import numpy as numpy\n",
    "  import matplotlib.pyplot as plt\n",
    "\n",
    "  x = numpy.linspace(.2, .4, 15)\n",
    "\n",
    "  def symbol_function():\n",
    "    return lambda argument_x:numpy.exp(argument_x**2)\n",
    "  \n",
    "  set_O_fh = [.1, 1e-2, 1e-12, 1e-15]\n",
    "  n_diff = [num_diff(symbol_function(), h) for h in set_O_fh]\n",
    "\n",
    "  for k in range(len(set_O_fh)):\n",
    "    plt.plot(x, n_diff[k](x), label = 'h={}'.format(set_O_fh[k]))\n",
    "  \n",
    "  plt.plot(x, symbol_der(x), 'o', label='true')\n",
    "  plt.legend()\n",
    "\n",
    "  plt.xlabel('x')\n",
    "  plt.ylabel('Derivative(x)')"
   ]
  },
  {
   "cell_type": "code",
   "execution_count": 20,
   "metadata": {
    "pycharm": {
     "name": "#%%\n"
    }
   },
   "outputs": [
    {
     "data": {
      "image/png": "[encoded data removed]",
      "text/plain": [
       "<Figure size 432x288 with 1 Axes>"
      ]
     },
     "metadata": {
      "needs_background": "light"
     },
     "output_type": "display_data"
    }
   ],
   "source": [
    "exercise_3()"
   ]
  },
  {
   "cell_type": "code",
   "execution_count": 21,
   "metadata": {
    "id": "pR5RKm4WS47v"
   },
   "outputs": [],
   "source": [
    "\"\"\" Dual Number object for AD \"\"\"\n",
    "class DualNumber:\n",
    "\n",
    "  \"\"\" Constructor method \"\"\"\n",
    "  def __init__(self, a_part, b_part=1.0):\n",
    "    self.a = a_part\n",
    "    self.b = b_part\n",
    "\n",
    "  def __add__(self, o):\n",
    "\n",
    "    try:\n",
    "      return DualNumber(self.a+o.a, self.b+o.b)\n",
    "\n",
    "    except AttributeError:\n",
    "      return DualNumber(self.a+o, self.b)\n",
    "\n",
    "  def __mul__(self, o):\n",
    "\n",
    "    return DualNumber(self.a*o.a,self.b*o.a+o.b*self.a)\n",
    "\n",
    "  def __str__(self):\n",
    "\n",
    "    return \"a: %f, b: %f\" % (self.a,self.b)\n",
    "\n",
    "  def __pow__(self, n):\n",
    "\n",
    "    import functools\n",
    "\n",
    "    return functools.reduce(lambda a, b: a*b, [self]*n)"
   ]
  },
  {
   "cell_type": "code",
   "execution_count": 22,
   "metadata": {
    "pycharm": {
     "name": "#%%\n"
    }
   },
   "outputs": [],
   "source": [
    "## Exercise 6\n",
    "def dual_number_exp(arg_dual_number):\n",
    "\n",
    "    import numpy as numpy\n",
    "\n",
    "    return DualNumber(numpy.exp(arg_dual_number.a), numpy.exp(arg_dual_number.a)*arg_dual_number.b)"
   ]
  },
  {
   "cell_type": "code",
   "execution_count": 23,
   "metadata": {
    "pycharm": {
     "name": "#%%\n"
    }
   },
   "outputs": [
    {
     "name": "stdout",
     "output_type": "stream",
     "text": [
      "a: 1.456000, b: 1.000000\n",
      "f:  2.119936, f':  2.912000\n",
      "a: 2.119936, b: 2.912000\n",
      "a: 2.119936, b: 2.912000\n"
     ]
    },
    {
     "data": {
      "text/plain": [
       "(None, None, None, None)"
      ]
     },
     "execution_count": 23,
     "metadata": {},
     "output_type": "execute_result"
    }
   ],
   "source": [
    "real_part = 1.456\n",
    "dual_number = DualNumber(real_part)\n",
    "\n",
    "print(dual_number),\\\n",
    "print(\"f: % f, f\\': % f\" %(real_part*real_part, 2*real_part)),\\\n",
    "print(dual_number*dual_number), print(dual_number**2)"
   ]
  },
  {
   "cell_type": "code",
   "execution_count": 24,
   "metadata": {
    "id": "P701swO7YmqN"
   },
   "outputs": [
    {
     "name": "stdout",
     "output_type": "stream",
     "text": [
      "a: 2.718282, b: 5.436564\n"
     ]
    }
   ],
   "source": [
    "real_part = 1\n",
    "dual_number = DualNumber(real_part)\n",
    "\n",
    "print(dual_number_exp(dual_number**2))"
   ]
  },
  {
   "cell_type": "markdown",
   "metadata": {
    "id": "Trrsu309v6r7"
   },
   "source": [
    "Use `autograd` to compute the derivative of\n",
    "$$ f(x) = e^{-(\\sin(x) - 4\\cos(x))^2} $$"
   ]
  },
  {
   "cell_type": "code",
   "execution_count": 25,
   "metadata": {
    "colab": {
     "base_uri": "https://localhost:8080/",
     "height": 265
    },
    "id": "4MoQ4WTJjAu8",
    "outputId": "eee76b1e-bff4-475c-897f-5909c2576a4c"
   },
   "outputs": [],
   "source": [
    "def exercise_8():\n",
    "\n",
    "  import matplotlib.pyplot as pyplot\n",
    "  import autograd\n",
    "  import numpy as numpy\n",
    "\n",
    "  x = numpy.arange(-2.5, 2.5, 0.05)\n",
    "\n",
    "  def function(arg_x):\n",
    "\n",
    "    import autograd.numpy as autograd_numpy_module\n",
    "\n",
    "    return autograd_numpy_module\\\n",
    "        .exp(-(autograd_numpy_module.sin(arg_x)\n",
    "               -4*autograd_numpy_module.cos(arg_x))**2)\n",
    "\n",
    "  auto_d = [autograd.grad(function)(x_i) for x_i in x]\n",
    "  fig, ax = pyplot.subplots()\n",
    "\n",
    "  ax.plot(x, numpy.exp(-(numpy.sin(x)-4*numpy.cos(x))**2))\n",
    "  ax.plot(x, auto_d, '--')\n",
    "\n",
    "  ax.legend(['f', 'AD'])\n",
    "  pyplot.show()"
   ]
  },
  {
   "cell_type": "code",
   "execution_count": 26,
   "metadata": {
    "pycharm": {
     "name": "#%%\n"
    }
   },
   "outputs": [
    {
     "data": {
      "image/png": "[encoded data removed]",
      "text/plain": [
       "<Figure size 432x288 with 1 Axes>"
      ]
     },
     "metadata": {
      "needs_background": "light"
     },
     "output_type": "display_data"
    }
   ],
   "source": [
    "exercise_8()"
   ]
  }
 ],
 "metadata": {
  "colab": {
   "collapsed_sections": [],
   "name": "Copy of WhatIsAutodiff.ipynb",
   "provenance": []
  },
  "kernelspec": {
   "display_name": "Python 3",
   "language": "python",
   "name": "python3"
  },
  "language_info": {
   "codemirror_mode": {
    "name": "ipython",
    "version": 3
   },
   "file_extension": ".py",
   "mimetype": "text/x-python",
   "name": "python",
   "nbconvert_exporter": "python",
   "pygments_lexer": "ipython3",
   "version": "3.7.0"
  }
 },
 "nbformat": 4,
 "nbformat_minor": 1
}
